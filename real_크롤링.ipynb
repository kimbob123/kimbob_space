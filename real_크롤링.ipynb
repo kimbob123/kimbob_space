{
 "cells": [
  {
   "cell_type": "code",
   "execution_count": null,
   "id": "initial_id",
   "metadata": {
    "collapsed": true
   },
   "outputs": [],
   "source": [
    "import requests\n",
    "r = requests.get('https://statiz.sporki.com/stats/?m=main&m2=batting&m3=default&so=OBP&ob=DESC&year=2024&sy=&ey=&te=&po=&lt=10100&reg=R&pe=&ds=&de=&we=&hr=&ha=&ct=&st=&vp=&bo=&pt=&pp=&ii=&vc=&um=&oo=&rr=&sc=&bc=&ba=&li=&as=&ae=&pl=&gc=&lr=&pr=500&ph=&hs=&us=&na=&ls=0&sf1=G&sk1=&sv1=&sf2=G&sk2=&sv2=')\n",
    "print(r.content.decode('UTF-8'))"
   ]
  },
  {
   "cell_type": "code",
   "outputs": [],
   "source": [
    "r"
   ],
   "metadata": {
    "collapsed": false
   },
   "id": "39d1d403188929f4",
   "execution_count": null
  },
  {
   "cell_type": "code",
   "outputs": [],
   "source": [
    "from bs4 import BeautifulSoup as soup\n",
    "s = soup(r.content)\n",
    "s.text"
   ],
   "metadata": {
    "collapsed": false
   },
   "id": "7d9042142b6b3596",
   "execution_count": null
  },
  {
   "cell_type": "code",
   "outputs": [],
   "source": [
    "table = s.find('table')\n",
    "table"
   ],
   "metadata": {
    "collapsed": false
   },
   "id": "2f58694a702b008",
   "execution_count": null
  },
  {
   "cell_type": "code",
   "outputs": [],
   "source": [
    "tbody = table.find('tbody')\n",
    "tbody"
   ],
   "metadata": {
    "collapsed": false
   },
   "id": "7d978ef06dcb3886",
   "execution_count": null
  },
  {
   "cell_type": "code",
   "outputs": [],
   "source": [
    "trs = tbody.find_all('tr')\n",
    "len(trs)\n",
    "#약 76개의 선수명이 있다."
   ],
   "metadata": {
    "collapsed": false
   },
   "id": "4903bdb0a9c4b17a",
   "execution_count": null
  },
  {
   "cell_type": "code",
   "outputs": [],
   "source": [
    "tds = .find_all('td')\n",
    "tds"
   ],
   "metadata": {
    "collapsed": false
   },
   "id": "ee825c9189b46343",
   "execution_count": null
  },
  {
   "cell_type": "code",
   "outputs": [],
   "source": [
    "trs[2].find_all('td')[1].text"
   ],
   "metadata": {
    "collapsed": false
   },
   "id": "21b32f527d1e948e",
   "execution_count": null
  },
  {
   "cell_type": "code",
   "outputs": [],
   "source": [
    "td_texts = [td.text for td in trs[2].find_all('td')]\n",
    "td_texts"
   ],
   "metadata": {
    "collapsed": false
   },
   "id": "db9659acf5c8dbbd",
   "execution_count": null
  },
  {
   "cell_type": "code",
   "outputs": [],
   "source": [
    "len(td_texts)"
   ],
   "metadata": {
    "collapsed": false
   },
   "id": "cb41203b1fe646eb",
   "execution_count": null
  },
  {
   "cell_type": "code",
   "outputs": [],
   "source": [
    "import pandas as pd\n",
    "columns = [\n",
    "    \"Rank\", \"Name\", \"Team\", \"Sort\", \"G\", \"PA\", \"ePA\", \"AB\", \"R\", \"H\", \n",
    "    \"2B\", \"3B\", \"HR\", \"TB\", \"RBI\", \"SB\", \"CS\", \"BB\", \"HP\", \"IB\", \n",
    "    \"SO\", \"GDP\", \"SH\", \"SF\", \"AVG\", \"OBP\", \"SLG\", \"OPS\", \"R/ePA\", \"wRC+\", \"WAR\"\n",
    "]\n",
    "\n",
    "# 데이터프레임 생성\n",
    "df = pd.DataFrame([td_texts], columns=columns)"
   ],
   "metadata": {
    "collapsed": false
   },
   "id": "2b0c6974126bcd90",
   "execution_count": null
  },
  {
   "cell_type": "code",
   "outputs": [],
   "source": [
    "df.head()"
   ],
   "metadata": {
    "collapsed": false
   },
   "id": "2246757d9f7ac5ee",
   "execution_count": null
  },
  {
   "cell_type": "code",
   "outputs": [],
   "source": [
    "td_texts = [td.text for td in trs[75].find_all('td')]\n",
    "td_texts"
   ],
   "metadata": {
    "collapsed": false
   },
   "id": "d1a75709df4151b1",
   "execution_count": null
  },
  {
   "cell_type": "code",
   "outputs": [],
   "source": [
    "type(td_texts)"
   ],
   "metadata": {
    "collapsed": false
   },
   "id": "f1b06aee3985a73c",
   "execution_count": null
  },
  {
   "cell_type": "code",
   "outputs": [],
   "source": [
    "import pandas as pd\n",
    "\n",
    "columns = [\n",
    "    \"Rank\", \"Name\", \"Team\", \"Sort\", \"G\", \"PA\", \"ePA\", \"AB\", \"R\", \"H\", \n",
    "    \"2B\", \"3B\", \"HR\", \"TB\", \"RBI\", \"SB\", \"CS\", \"BB\", \"HP\", \"IB\", \n",
    "    \"SO\", \"GDP\", \"SH\", \"SF\", \"AVG\", \"OBP\", \"SLG\", \"OPS\", \"R/ePA\", \"wRC+\", \"WAR\"\n",
    "]\n",
    "\n",
    "# 빈 데이터프레임 생성\n",
    "df = pd.DataFrame(columns=columns)\n",
    "\n",
    "# 각 행의 컬럼수랑, 데이터프레임 컬럼 수 일치\n",
    "for i in range(len(trs)):\n",
    "    td_texts = [td.text for td in trs[i].find_all('td')]\n",
    "    # 현재 행의 길이를 최대 길이에 맞춤\n",
    "    td_texts += [None] * (len(columns) - len(td_texts))\n",
    "    df.loc[len(df)] = td_texts\n",
    "\n",
    "df.head()"
   ],
   "metadata": {
    "collapsed": false
   },
   "id": "21ba48820a755b7f",
   "execution_count": null
  },
  {
   "cell_type": "code",
   "outputs": [],
   "source": [],
   "metadata": {
    "collapsed": false
   },
   "id": "c567efb04f743302",
   "execution_count": null
  },
  {
   "cell_type": "code",
   "outputs": [],
   "source": [
    "import pandas as pd\n",
    "\n",
    "columns = [\n",
    "    \"Rank\", \"Name\", \"Team\", \"Sort\", \"G\", \"PA\", \"ePA\", \"AB\", \"R\", \"H\", \n",
    "    \"2B\", \"3B\", \"HR\", \"TB\", \"RBI\", \"SB\", \"CS\", \"BB\", \"HP\", \"IB\", \n",
    "    \"SO\", \"GDP\", \"SH\", \"SF\", \"AVG\", \"OBP\", \"SLG\", \"OPS\", \"R/ePA\", \"wRC+\", \"WAR\"\n",
    "]\n",
    "\n",
    "# 빈 데이터프레임 생성\n",
    "df = pd.DataFrame(columns=columns)\n",
    "\n",
    "# 각 행의 길이를 최대 길이에 맞추어서 데이터프레임에 추가\n",
    "for i in range(2,76):\n",
    "    td_texts = [td.text for td in trs[i].find_all('td')]\n",
    "    # 현재 행의 길이를 최대 길이에 맞춤\n",
    "    td_texts += [None] * (len(columns) - len(td_texts))\n",
    "    df.loc[len(df)] = td_texts\n",
    "\n",
    "df.head()"
   ],
   "metadata": {
    "collapsed": false
   },
   "id": "b6df913215aea0b8",
   "execution_count": null
  },
  {
   "cell_type": "code",
   "outputs": [],
   "source": [
    "this_year = df\n",
    "#4월 23일까지 출루율 순 75명의 타자."
   ],
   "metadata": {
    "collapsed": false
   },
   "id": "8c41f4f119aab103",
   "execution_count": null
  },
  {
   "cell_type": "code",
   "outputs": [],
   "source": [
    "this_year.info()"
   ],
   "metadata": {
    "collapsed": false
   },
   "id": "ae9d30ea03576f9",
   "execution_count": null
  },
  {
   "cell_type": "code",
   "outputs": [],
   "source": [
    "this_year[['Sort', 'G', 'PA', 'ePA', 'AB', 'R', 'H', \n",
    "           '2B', '3B', 'HR', 'TB', 'RBI', 'SB', 'CS', 'BB', \n",
    "           'HP', 'IB', 'SO', 'GDP', 'SH', 'SF', 'AVG', \n",
    "           'OBP', 'SLG', 'OPS', 'R/ePA', 'wRC+', 'WAR']] = this_year[['Sort', 'G', 'PA', 'ePA', 'AB', 'R', 'H', \n",
    "                                                                       '2B', '3B', 'HR', 'TB', 'RBI', 'SB', 'CS', 'BB', \n",
    "                                                                       'HP', 'IB', 'SO', 'GDP', 'SH', 'SF', 'AVG', \n",
    "                                                                       'OBP', 'SLG', 'OPS', 'R/ePA', 'wRC+', 'WAR']].astype(float)\n"
   ],
   "metadata": {
    "collapsed": false
   },
   "id": "84ef8166c746ac29",
   "execution_count": null
  },
  {
   "cell_type": "code",
   "outputs": [],
   "source": [
    "this_year['PA'].plot(kind='hist', bins=30)\n",
    "# 70타석 이상이네."
   ],
   "metadata": {
    "collapsed": false
   },
   "id": "ec21284537073f6",
   "execution_count": null
  },
  {
   "cell_type": "code",
   "outputs": [],
   "source": [
    "import seaborn as sns\n",
    "import matplotlib.pyplot as plt\n",
    "\n",
    "# Seaborn을 사용하여 히스토그램 그리기\n",
    "sns.histplot(this_year['AVG'], bins=30, kde=True, color='skyblue')\n",
    "\n",
    "# 그래프 제목과 축 라벨 추가\n",
    "plt.title('Distribution of AVG')\n",
    "plt.xlabel('AVG')\n",
    "plt.ylabel('Frequency')\n",
    "\n",
    "# 그래프 출력\n",
    "plt.show()"
   ],
   "metadata": {
    "collapsed": false
   },
   "id": "edfb855eb9525abc",
   "execution_count": null
  },
  {
   "cell_type": "markdown",
   "source": [
    "ㅇ;"
   ],
   "metadata": {
    "collapsed": false
   },
   "id": "6ef7a97082975fb5"
  },
  {
   "cell_type": "markdown",
   "source": [
    "### 이게찐\n"
   ],
   "metadata": {
    "collapsed": false
   },
   "id": "4642747a7cd4a896"
  },
  {
   "cell_type": "code",
   "outputs": [],
   "source": [
    "import requests\n",
    "#규정타석 50%\n",
    "r = requests.get('https://statiz.sporki.com/stats/?m=main&m2=batting&m3=default&so=PA&ob=DESC&year=2024&sy=&ey=&te=&po=&lt=10100&reg=P50&pe=&ds=&de=&we=&hr=&ha=&ct=&st=&vp=&bo=&pt=&pp=&ii=&vc=&um=&oo=&rr=&sc=&bc=&ba=&li=&as=&ae=&pl=&gc=&lr=&pr=500&ph=&hs=&us=&na=&ls=0&sf1=G&sk1=&sv1=&sf2=G&sk2=&sv2=')\n",
    "\n",
    "from bs4 import BeautifulSoup as soup\n",
    "s = soup(r.content)\n",
    "\n",
    "table = s.find('table')\n",
    "\n",
    "tbody = table.find('tbody')\n",
    "\n",
    "trs = tbody.find_all('tr')\n",
    "print(len(trs))\n",
    "\n",
    "td_text = [td.text for td in trs[2].find_all('td')]\n",
    "td_text"
   ],
   "metadata": {
    "collapsed": false
   },
   "id": "b930d0e55155691f",
   "execution_count": null
  },
  {
   "cell_type": "code",
   "outputs": [],
   "source": [
    "import pandas as pd\n",
    "\n",
    "columns = [\n",
    "    \"Rank\", \"Name\", \"Team\", \"Sort\", \"G\", \"PA\", \"ePA\", \"AB\", \"R\", \"H\", \n",
    "    \"2B\", \"3B\", \"HR\", \"TB\", \"RBI\", \"SB\", \"CS\", \"BB\", \"HP\", \"IB\", \n",
    "    \"SO\", \"GDP\", \"SH\", \"SF\", \"AVG\", \"OBP\", \"SLG\", \"OPS\", \"R/ePA\", \"wRC+\", \"WAR\"\n",
    "]\n",
    "\n",
    "# 빈 데이터프레임 생성\n",
    "df = pd.DataFrame(columns=columns)\n",
    "\n",
    "# 각 행의 길이를 최대 길이에 맞추어서 데이터프레임에 추가\n",
    "for i in range(len(trs)):\n",
    "    td_texts = [td.text for td in trs[i].find_all('td')]\n",
    "    # 현재 행의 길이를 최대 길이에 맞춤\n",
    "    td_texts += [None] * (len(columns) - len(td_texts))\n",
    "    df.loc[len(df)] = td_texts\n",
    "\n",
    "this_year_50 = df\n",
    "this_year_50.info()"
   ],
   "metadata": {
    "collapsed": false
   },
   "id": "305ddb036e4bc0df",
   "execution_count": null
  },
  {
   "cell_type": "code",
   "outputs": [],
   "source": [
    "this_year_50.tail()"
   ],
   "metadata": {
    "collapsed": false
   },
   "id": "f4321ce287d4b043",
   "execution_count": null
  },
  {
   "cell_type": "code",
   "outputs": [],
   "source": [
    "this_year_50.dropna(inplace=True)"
   ],
   "metadata": {
    "collapsed": false
   },
   "id": "62580bb9339a7d2b",
   "execution_count": null
  },
  {
   "cell_type": "code",
   "outputs": [],
   "source": [
    "this_year_50.head()"
   ],
   "metadata": {
    "collapsed": false
   },
   "id": "73b4208113b5e75a",
   "execution_count": null
  },
  {
   "cell_type": "code",
   "outputs": [],
   "source": [
    "this_year_50[['Sort', 'G', 'PA', 'ePA', 'AB', 'R', 'H', \n",
    "           '2B', '3B', 'HR', 'TB', 'RBI', 'SB', 'CS', 'BB', \n",
    "           'HP', 'IB', 'SO', 'GDP', 'SH', 'SF', 'AVG', \n",
    "           'OBP', 'SLG', 'OPS', 'R/ePA', 'wRC+', 'WAR']] = this_year_50[['Sort', 'G', 'PA', 'ePA', 'AB', 'R', 'H', \n",
    "                                                                       '2B', '3B', 'HR', 'TB', 'RBI', 'SB', 'CS', 'BB', \n",
    "                                                                       'HP', 'IB', 'SO', 'GDP', 'SH', 'SF', 'AVG', \n",
    "                                                                       'OBP', 'SLG', 'OPS', 'R/ePA', 'wRC+', 'WAR']].astype(float)\n"
   ],
   "metadata": {
    "collapsed": false
   },
   "id": "c05657ee3efae444",
   "execution_count": null
  },
  {
   "cell_type": "code",
   "outputs": [],
   "source": [
    "import seaborn as sns\n",
    "import matplotlib.pyplot as plt\n",
    "\n",
    "# Seaborn을 사용하여 히스토그램 그리기\n",
    "sns.histplot(this_year_50['AVG'], bins=10, kde=True, color='darkorange')\n",
    "\n",
    "# 그래프 제목과 축 라벨 추가\n",
    "plt.title('Distribution of AVG')\n",
    "plt.xlabel('AVG')\n",
    "plt.ylabel('Frequency')\n",
    "\n",
    "# 그래프 출력\n",
    "plt.show()"
   ],
   "metadata": {
    "collapsed": false
   },
   "id": "41991f98c7ada89",
   "execution_count": null
  },
  {
   "cell_type": "code",
   "outputs": [],
   "source": [
    "import seaborn as sns\n",
    "import matplotlib.pyplot as plt\n",
    "\n",
    "# Seaborn을 사용하여 히스토그램 그리기\n",
    "sns.histplot(this_year_50['OBP'], bins=10, kde=True, color='darkorange')\n",
    "\n",
    "# 그래프 제목과 축 라벨 추가\n",
    "plt.title('Distribution of OBP')\n",
    "plt.xlabel('OBP')\n",
    "plt.ylabel('Frequency')\n",
    "\n",
    "# 그래프 출력\n",
    "plt.show()"
   ],
   "metadata": {
    "collapsed": false
   },
   "id": "34d5945d9bd26d1d",
   "execution_count": null
  },
  {
   "cell_type": "code",
   "outputs": [],
   "source": [
    "import seaborn as sns\n",
    "import matplotlib.pyplot as plt\n",
    "\n",
    "# Seaborn을 사용하여 히스토그램 그리기\n",
    "sns.histplot(this_year_50['OPS'], bins=10, kde=True, color='darkorange')\n",
    "\n",
    "# 그래프 제목과 축 라벨 추가\n",
    "plt.title('Distribution of OPS')\n",
    "plt.xlabel('OPS')\n",
    "plt.ylabel('Frequency')\n",
    "\n",
    "# 그래프 출력\n",
    "plt.show()"
   ],
   "metadata": {
    "collapsed": false
   },
   "id": "f7664462303fe967",
   "execution_count": null
  },
  {
   "cell_type": "code",
   "outputs": [],
   "source": [
    "this_year_50.to_csv('20240423_50%.csv', index=False)"
   ],
   "metadata": {
    "collapsed": false
   },
   "id": "41ed04b2a4b9d679",
   "execution_count": null
  },
  {
   "cell_type": "code",
   "outputs": [],
   "source": [
    "#아 이상해!!"
   ],
   "metadata": {
    "collapsed": false
   },
   "id": "c46449dd3821c44",
   "execution_count": null
  },
  {
   "cell_type": "code",
   "outputs": [],
   "source": [
    "print('hi')"
   ],
   "metadata": {
    "collapsed": false
   },
   "id": "1f8f0110ac3b3d4f",
   "execution_count": null
  },
  {
   "cell_type": "code",
   "outputs": [],
   "source": [
    "print('hi')]"
   ],
   "metadata": {
    "collapsed": false
   },
   "id": "d7b76d41d95af944",
   "execution_count": null
  },
  {
   "cell_type": "code",
   "outputs": [],
   "source": [
    "dasd"
   ],
   "metadata": {
    "collapsed": false
   },
   "id": "62c48cd3377c06a3"
  }
 ],
 "metadata": {
  "kernelspec": {
   "display_name": "Python 3",
   "language": "python",
   "name": "python3"
  },
  "language_info": {
   "codemirror_mode": {
    "name": "ipython",
    "version": 2
   },
   "file_extension": ".py",
   "mimetype": "text/x-python",
   "name": "python",
   "nbconvert_exporter": "python",
   "pygments_lexer": "ipython2",
   "version": "2.7.6"
  }
 },
 "nbformat": 4,
 "nbformat_minor": 5
}
