{
 "nbformat": 4,
 "nbformat_minor": 0,
 "metadata": {
  "colab": {
   "provenance": [],
   "authorship_tag": "ABX9TyMEldJTeXlsKl2/PPrV8ukc"
  },
  "kernelspec": {
   "name": "python3",
   "language": "python",
   "display_name": "Python 3 (ipykernel)"
  },
  "language_info": {
   "name": "python"
  }
 },
 "cells": [
  {
   "cell_type": "code",
   "execution_count": 1,
   "metadata": {
    "colab": {
     "base_uri": "https://localhost:8080/"
    },
    "id": "S53GeJH3zqAt",
    "executionInfo": {
     "status": "ok",
     "timestamp": 1709263206809,
     "user_tz": -540,
     "elapsed": 367,
     "user": {
      "displayName": "나현수",
      "userId": "12401033958903178275"
     }
    },
    "outputId": "fe4e0388-1af5-4dfd-ce25-bf515c4f1096",
    "ExecuteTime": {
     "end_time": "2024-03-10T12:20:13.449155Z",
     "start_time": "2024-03-10T12:20:13.310902Z"
    }
   },
   "outputs": [
    {
     "name": "stdout",
     "output_type": "stream",
     "text": [
      "3.14252\n"
     ]
    }
   ],
   "source": [
    "import numpy as np\n",
    "\n",
    "for i in [100000]:\n",
    "  y = np.random.rand(i)\n",
    "  x = np.random.rand(i)\n",
    "\n",
    "  diff = y - np.sqrt(1-x**2)\n",
    "  negative = diff[diff<=0]\n",
    "\n",
    "  pi = 4 * len(negative) / i\n",
    "  print(pi)"
   ]
  },
  {
   "cell_type": "code",
   "outputs": [
    {
     "data": {
      "text/plain": "numpy.ndarray"
     },
     "execution_count": 2,
     "metadata": {},
     "output_type": "execute_result"
    }
   ],
   "source": [
    "type(diff)"
   ],
   "metadata": {
    "collapsed": false,
    "ExecuteTime": {
     "end_time": "2024-03-10T12:20:24.293562Z",
     "start_time": "2024-03-10T12:20:24.289616Z"
    }
   },
   "execution_count": 2
  },
  {
   "cell_type": "code",
   "outputs": [],
   "source": [],
   "metadata": {
    "collapsed": false
   }
  },
  {
   "cell_type": "code",
   "outputs": [
    {
     "data": {
      "text/plain": "78540"
     },
     "execution_count": 4,
     "metadata": {},
     "output_type": "execute_result"
    }
   ],
   "source": [
    "len(negative)"
   ],
   "metadata": {
    "collapsed": false,
    "ExecuteTime": {
     "end_time": "2024-03-08T04:54:41.034068Z",
     "start_time": "2024-03-08T04:54:41.029487Z"
    }
   },
   "execution_count": 4
  },
  {
   "cell_type": "code",
   "source": [
    "import numpy as np\n",
    "import pandas as pd\n",
    "\n",
    "for i in [10, 100, 1000, 10000, 100000]:\n",
    "  y = np.random.rand(i)\n",
    "  x = np.random.rand(i)\n",
    "\n",
    "  diff = y - np.sqrt(1-x**2)\n",
    "  negative = diff[diff<=0]\n",
    "\n",
    "  pi = 4 * len(negative) / i\n",
    "  print(pi)\n",
    "\n",
    "  df = pd.DataFrame({\"x\": x, \"y\": y, \"diff\": diff})\n",
    "  colors = np.where(df['diff'] <= 0, 'red', 'blue')#gpt\n",
    "  df.plot(kind='scatter', x=\"x\", y=\"y\", c=colors)"
   ],
   "metadata": {
    "colab": {
     "base_uri": "https://localhost:8080/",
     "height": 1000
    },
    "id": "YpWWPij-804v",
    "executionInfo": {
     "status": "ok",
     "timestamp": 1709263262570,
     "user_tz": -540,
     "elapsed": 10241,
     "user": {
      "displayName": "나현수",
      "userId": "12401033958903178275"
     }
    },
    "outputId": "1a1c4ad1-af1c-4c9a-8193-426d981ccb54",
    "ExecuteTime": {
     "end_time": "2024-03-08T03:37:47.060442Z",
     "start_time": "2024-03-08T03:37:47.047368Z"
    }
   },
   "execution_count": 7,
   "outputs": [
    {
     "ename": "ModuleNotFoundError",
     "evalue": "No module named 'matplotlib'",
     "output_type": "error",
     "traceback": [
      "\u001B[0;31m---------------------------------------------------------------------------\u001B[0m",
      "\u001B[0;31mModuleNotFoundError\u001B[0m                       Traceback (most recent call last)",
      "Cell \u001B[0;32mIn[7], line 3\u001B[0m\n\u001B[1;32m      1\u001B[0m \u001B[38;5;28;01mimport\u001B[39;00m \u001B[38;5;21;01mnumpy\u001B[39;00m \u001B[38;5;28;01mas\u001B[39;00m \u001B[38;5;21;01mnp\u001B[39;00m\n\u001B[1;32m      2\u001B[0m \u001B[38;5;28;01mimport\u001B[39;00m \u001B[38;5;21;01mpandas\u001B[39;00m \u001B[38;5;28;01mas\u001B[39;00m \u001B[38;5;21;01mpd\u001B[39;00m\n\u001B[0;32m----> 3\u001B[0m \u001B[38;5;28;01mimport\u001B[39;00m \u001B[38;5;21;01mmatplotlib\u001B[39;00m\u001B[38;5;21;01m.\u001B[39;00m\u001B[38;5;21;01mpyplot\u001B[39;00m \u001B[38;5;28;01mas\u001B[39;00m \u001B[38;5;21;01mplt\u001B[39;00m\n\u001B[1;32m      5\u001B[0m \u001B[38;5;28;01mfor\u001B[39;00m i \u001B[38;5;129;01min\u001B[39;00m [\u001B[38;5;241m10\u001B[39m, \u001B[38;5;241m100\u001B[39m, \u001B[38;5;241m1000\u001B[39m, \u001B[38;5;241m10000\u001B[39m, \u001B[38;5;241m100000\u001B[39m]:\n\u001B[1;32m      6\u001B[0m   y \u001B[38;5;241m=\u001B[39m np\u001B[38;5;241m.\u001B[39mrandom\u001B[38;5;241m.\u001B[39mrand(i)\n",
      "\u001B[0;31mModuleNotFoundError\u001B[0m: No module named 'matplotlib'"
     ]
    }
   ]
  },
  {
   "cell_type": "code",
   "source": [
    "import numpy as np\n",
    "import pandas as pd\n",
    "\n",
    "y = np.random.rand(10)\n",
    "x = np.random.rand(10)\n",
    "\n",
    "diff = y - np.sqrt(1-x**2)#\n",
    "negative = np.where(diff<=0,\"red\", \"red\")\n",
    "negative"
   ],
   "metadata": {
    "colab": {
     "base_uri": "https://localhost:8080/"
    },
    "id": "XZTLAwC1-FZT",
    "executionInfo": {
     "status": "ok",
     "timestamp": 1709265176198,
     "user_tz": -540,
     "elapsed": 5,
     "user": {
      "displayName": "나현수",
      "userId": "12401033958903178275"
     }
    },
    "outputId": "b2589d32-9394-4344-9831-67308ee83638"
   },
   "execution_count": 24,
   "outputs": [
    {
     "output_type": "execute_result",
     "data": {
      "text/plain": [
       "array(['red', 'red', 'red', 'red', 'red', 'red', 'red', 'red', 'red',\n",
       "       'red'], dtype='<U3')"
      ]
     },
     "metadata": {},
     "execution_count": 24
    }
   ]
  },
  {
   "cell_type": "code",
   "source": [],
   "metadata": {
    "id": "JoImw2nj-4nY"
   },
   "execution_count": null,
   "outputs": []
  }
 ]
}
